{
  "cells": [
    {
      "cell_type": "markdown",
      "metadata": {
        "id": "FG8b6l3N2XXV"
      },
      "source": [
        "# 0. Import Data"
      ]
    },
    {
      "cell_type": "code",
      "execution_count": 33,
      "metadata": {
        "id": "1uqxr6eB2XXW"
      },
      "outputs": [],
      "source": [
        "# Import the pandas and scikit-learn libraries.\n",
        "\n",
        "import pandas as pd\n",
        "from sklearn.model_selection import train_test_split"
      ]
    },
    {
      "cell_type": "code",
      "execution_count": 34,
      "metadata": {
        "id": "ZFFB4UhO2XXX"
      },
      "outputs": [],
      "source": [
        "# Read the data from the CSV file 'Churn.csv' into a Pandas DataFrame.\n",
        "\n",
        "df = pd.read_csv('Churn.csv')"
      ]
    },
    {
      "cell_type": "code",
      "execution_count": 35,
      "metadata": {
        "id": "t9Jlne3i2XXX"
      },
      "outputs": [],
      "source": [
        "# Create a new DataFrame X by performing one-hot encoding on the categorical columns in df, excluding the 'Churn' and 'Customer ID' columns.\n",
        "\n",
        "X = pd.get_dummies(df.drop(['Churn', 'Customer ID'], axis=1))\n",
        "\n",
        "# Create a new Series y by converting the 'Churn' column to numeric values, where 'Yes' is mapped to 1 and 'No' is mapped to 0.\n",
        "\n",
        "y = df['Churn'].apply(lambda x: 1 if x=='Yes' else 0)"
      ]
    },
    {
      "cell_type": "code",
      "execution_count": 36,
      "metadata": {
        "id": "kge1PFE52XXY"
      },
      "outputs": [],
      "source": [
        "# Split the data into training and testing sets.\n",
        "\n",
        "X_train, X_test, y_train, y_test = train_test_split(X, y, test_size=.2)"
      ]
    },
    {
      "cell_type": "code",
      "execution_count": 37,
      "metadata": {
        "colab": {
          "base_uri": "https://localhost:8080/"
        },
        "id": "R36m6dLH2XXY",
        "outputId": "5760c3d3-bec2-4dc3-b952-b4ea478d501e"
      },
      "outputs": [
        {
          "output_type": "execute_result",
          "data": {
            "text/plain": [
              "3062    1\n",
              "427     0\n",
              "6574    0\n",
              "5032    0\n",
              "4610    0\n",
              "Name: Churn, dtype: int64"
            ]
          },
          "metadata": {},
          "execution_count": 37
        }
      ],
      "source": [
        "# Print the first few rows of the y_train Series.\n",
        "\n",
        "y_train.head()"
      ]
    },
    {
      "cell_type": "markdown",
      "metadata": {
        "id": "Erf-7ijX2XXZ"
      },
      "source": [
        "# 1. Import Dependencies"
      ]
    },
    {
      "cell_type": "code",
      "execution_count": 38,
      "metadata": {
        "id": "lCegxuDE2XXZ"
      },
      "outputs": [],
      "source": [
        "# Import the necessary libraries for building and evaluating a neural network model.\n",
        "\n",
        "from tensorflow.keras.models import Sequential, load_model\n",
        "from tensorflow.keras.layers import Dense\n",
        "from sklearn.metrics import accuracy_score"
      ]
    },
    {
      "cell_type": "code",
      "execution_count": 39,
      "metadata": {
        "id": "1dfZ2cy56IrA"
      },
      "outputs": [],
      "source": [
        "# Import the necessary libraries for reading data and splitting it into training and testing sets.\n",
        "\n",
        "import pandas as pd\n",
        "from sklearn.model_selection import train_test_split"
      ]
    },
    {
      "cell_type": "code",
      "execution_count": 40,
      "metadata": {
        "id": "BJW-xPFh6IrB"
      },
      "outputs": [],
      "source": [
        "# Read the data from the CSV file 'Churn.csv' into a Pandas DataFrame.\n",
        "\n",
        "df = pd.read_csv('Churn.csv')"
      ]
    },
    {
      "cell_type": "code",
      "execution_count": 41,
      "metadata": {
        "id": "Fi6UvwwA6IrB"
      },
      "outputs": [],
      "source": [
        "# Create a new DataFrame X by performing one-hot encoding on the categorical columns in df, excluding the 'Churn' and 'Customer ID' columns.\n",
        "\n",
        "X = pd.get_dummies(df.drop(['Churn', 'Customer ID'], axis=1))\n",
        "\n",
        "# Create a new Series y by converting the 'Churn' column to numeric values, where 'Yes' is mapped to 1 and 'No' is mapped to 0.\n",
        "\n",
        "y = df['Churn'].apply(lambda x: 1 if x=='Yes' else 0)"
      ]
    },
    {
      "cell_type": "code",
      "execution_count": 42,
      "metadata": {
        "id": "bXrEseTI6IrB"
      },
      "outputs": [],
      "source": [
        "# Split the data into training and testing sets.\n",
        "\n",
        "X_train, X_test, y_train, y_test = train_test_split(X, y, test_size=.2)"
      ]
    },
    {
      "cell_type": "code",
      "execution_count": 43,
      "metadata": {
        "colab": {
          "base_uri": "https://localhost:8080/"
        },
        "outputId": "6bc991b8-c971-42e6-a475-38012925f6dc",
        "id": "-PzNnP976IrB"
      },
      "outputs": [
        {
          "output_type": "execute_result",
          "data": {
            "text/plain": [
              "4433    0\n",
              "2170    0\n",
              "2723    0\n",
              "789     0\n",
              "6925    1\n",
              "Name: Churn, dtype: int64"
            ]
          },
          "metadata": {},
          "execution_count": 43
        }
      ],
      "source": [
        "# Print the first few rows of the y_train Series.\n",
        "\n",
        "y_train.head()"
      ]
    },
    {
      "cell_type": "markdown",
      "metadata": {
        "id": "-B55Qvd66IrC"
      },
      "source": [
        "# 1. Import Dependencies"
      ]
    },
    {
      "cell_type": "code",
      "execution_count": 44,
      "metadata": {
        "id": "eLLt6rMP6IrC"
      },
      "outputs": [],
      "source": [
        "# Import the necessary libraries for building and evaluating a neural network model.\n",
        "\n",
        "from tensorflow.keras.models import Sequential, load_model\n",
        "from tensorflow.keras.layers import Dense\n",
        "from sklearn.metrics import accuracy_score"
      ]
    },
    {
      "cell_type": "markdown",
      "metadata": {
        "id": "xLQzlaqX2XXZ"
      },
      "source": [
        "# 2. Build and Compile Model"
      ]
    },
    {
      "cell_type": "code",
      "execution_count": 45,
      "metadata": {
        "id": "rjR505gS2XXa"
      },
      "outputs": [],
      "source": [
        "# Build a sequential neural network model.\n",
        "\n",
        "model = Sequential()\n",
        "\n",
        "# Add the first hidden layer with 32 units and 'relu' activation.\n",
        "model.add(Dense(units=32, activation='relu', input_dim=len(X_train.columns)))\n",
        "\n",
        "# Add the second hidden layer with 64 units and 'relu' activation.\n",
        "model.add(Dense(units=64, activation='relu'))\n",
        "\n",
        "# Add the output layer with 1 unit and 'sigmoid' activation.\n",
        "model.add(Dense(units=1, activation='sigmoid'))"
      ]
    },
    {
      "cell_type": "code",
      "execution_count": 46,
      "metadata": {
        "id": "_g8lLcJH2XXa"
      },
      "outputs": [],
      "source": [
        "# Compile the model with 'binary_crossentropy' loss, 'sgd' optimizer, and 'accuracy' metric.\n",
        "\n",
        "model.compile(loss='binary_crossentropy', optimizer='sgd', metrics='accuracy')"
      ]
    },
    {
      "cell_type": "markdown",
      "metadata": {
        "id": "vlFPi1nf2XXa"
      },
      "source": [
        "# 3. Fit, Predict and Evaluate"
      ]
    },
    {
      "cell_type": "code",
      "execution_count": 47,
      "metadata": {
        "collapsed": true,
        "colab": {
          "base_uri": "https://localhost:8080/"
        },
        "id": "NLZpZrFU2XXa",
        "outputId": "a68b0437-3c18-47a4-dcf9-5fb1591aa5db"
      },
      "outputs": [
        {
          "output_type": "stream",
          "name": "stdout",
          "text": [
            "Epoch 1/200\n",
            "177/177 [==============================] - 1s 6ms/step - loss: 0.5110 - accuracy: 0.7512\n",
            "Epoch 2/200\n",
            "177/177 [==============================] - 1s 7ms/step - loss: 0.4889 - accuracy: 0.7673\n",
            "Epoch 3/200\n",
            "177/177 [==============================] - 1s 7ms/step - loss: 0.4820 - accuracy: 0.7741\n",
            "Epoch 4/200\n",
            "177/177 [==============================] - 1s 6ms/step - loss: 0.4793 - accuracy: 0.7780\n",
            "Epoch 5/200\n",
            "177/177 [==============================] - 1s 6ms/step - loss: 0.4730 - accuracy: 0.7817\n",
            "Epoch 6/200\n",
            "177/177 [==============================] - 1s 6ms/step - loss: 0.4718 - accuracy: 0.7807\n",
            "Epoch 7/200\n",
            "177/177 [==============================] - 1s 6ms/step - loss: 0.4711 - accuracy: 0.7808\n",
            "Epoch 8/200\n",
            "177/177 [==============================] - 1s 5ms/step - loss: 0.4673 - accuracy: 0.7769\n",
            "Epoch 9/200\n",
            "177/177 [==============================] - 1s 6ms/step - loss: 0.4652 - accuracy: 0.7805\n",
            "Epoch 10/200\n",
            "177/177 [==============================] - 1s 6ms/step - loss: 0.4608 - accuracy: 0.7823\n",
            "Epoch 11/200\n",
            "177/177 [==============================] - 1s 6ms/step - loss: 0.4610 - accuracy: 0.7801\n",
            "Epoch 12/200\n",
            "177/177 [==============================] - 1s 5ms/step - loss: 0.4617 - accuracy: 0.7752\n",
            "Epoch 13/200\n",
            "177/177 [==============================] - 1s 4ms/step - loss: 0.4599 - accuracy: 0.7831\n",
            "Epoch 14/200\n",
            "177/177 [==============================] - 1s 8ms/step - loss: 0.4580 - accuracy: 0.7807\n",
            "Epoch 15/200\n",
            "177/177 [==============================] - 1s 7ms/step - loss: 0.4583 - accuracy: 0.7799\n",
            "Epoch 16/200\n",
            "177/177 [==============================] - 1s 5ms/step - loss: 0.4555 - accuracy: 0.7876\n",
            "Epoch 17/200\n",
            "177/177 [==============================] - 1s 5ms/step - loss: 0.4566 - accuracy: 0.7835\n",
            "Epoch 18/200\n",
            "177/177 [==============================] - 1s 6ms/step - loss: 0.4550 - accuracy: 0.7823\n",
            "Epoch 19/200\n",
            "177/177 [==============================] - 1s 6ms/step - loss: 0.4547 - accuracy: 0.7814\n",
            "Epoch 20/200\n",
            "177/177 [==============================] - 1s 5ms/step - loss: 0.4525 - accuracy: 0.7840\n",
            "Epoch 21/200\n",
            "177/177 [==============================] - 1s 5ms/step - loss: 0.4535 - accuracy: 0.7837\n",
            "Epoch 22/200\n",
            "177/177 [==============================] - 1s 5ms/step - loss: 0.4530 - accuracy: 0.7815\n",
            "Epoch 23/200\n",
            "177/177 [==============================] - 1s 6ms/step - loss: 0.4491 - accuracy: 0.7819\n",
            "Epoch 24/200\n",
            "177/177 [==============================] - 1s 6ms/step - loss: 0.4513 - accuracy: 0.7817\n",
            "Epoch 25/200\n",
            "177/177 [==============================] - 1s 6ms/step - loss: 0.4512 - accuracy: 0.7837\n",
            "Epoch 26/200\n",
            "177/177 [==============================] - 2s 9ms/step - loss: 0.4518 - accuracy: 0.7821\n",
            "Epoch 27/200\n",
            "177/177 [==============================] - 2s 9ms/step - loss: 0.4507 - accuracy: 0.7819\n",
            "Epoch 28/200\n",
            "177/177 [==============================] - 2s 12ms/step - loss: 0.4506 - accuracy: 0.7846\n",
            "Epoch 29/200\n",
            "177/177 [==============================] - 2s 12ms/step - loss: 0.4595 - accuracy: 0.7752\n",
            "Epoch 30/200\n",
            "177/177 [==============================] - 1s 6ms/step - loss: 0.4498 - accuracy: 0.7858\n",
            "Epoch 31/200\n",
            "177/177 [==============================] - 1s 5ms/step - loss: 0.4494 - accuracy: 0.7856\n",
            "Epoch 32/200\n",
            "177/177 [==============================] - 1s 5ms/step - loss: 0.4478 - accuracy: 0.7844\n",
            "Epoch 33/200\n",
            "177/177 [==============================] - 1s 5ms/step - loss: 0.4485 - accuracy: 0.7851\n",
            "Epoch 34/200\n",
            "177/177 [==============================] - 1s 6ms/step - loss: 0.4488 - accuracy: 0.7844\n",
            "Epoch 35/200\n",
            "177/177 [==============================] - 1s 7ms/step - loss: 0.4497 - accuracy: 0.7830\n",
            "Epoch 36/200\n",
            "177/177 [==============================] - 1s 7ms/step - loss: 0.4475 - accuracy: 0.7849\n",
            "Epoch 37/200\n",
            "177/177 [==============================] - 1s 7ms/step - loss: 0.4464 - accuracy: 0.7876\n",
            "Epoch 38/200\n",
            "177/177 [==============================] - 1s 7ms/step - loss: 0.4478 - accuracy: 0.7831\n",
            "Epoch 39/200\n",
            "177/177 [==============================] - 1s 8ms/step - loss: 0.4474 - accuracy: 0.7837\n",
            "Epoch 40/200\n",
            "177/177 [==============================] - 2s 9ms/step - loss: 0.4490 - accuracy: 0.7860\n",
            "Epoch 41/200\n",
            "177/177 [==============================] - 1s 7ms/step - loss: 0.4472 - accuracy: 0.7842\n",
            "Epoch 42/200\n",
            "177/177 [==============================] - 1s 7ms/step - loss: 0.4505 - accuracy: 0.7862\n",
            "Epoch 43/200\n",
            "177/177 [==============================] - 1s 7ms/step - loss: 0.4503 - accuracy: 0.7879\n",
            "Epoch 44/200\n",
            "177/177 [==============================] - 1s 7ms/step - loss: 0.4466 - accuracy: 0.7895\n",
            "Epoch 45/200\n",
            "177/177 [==============================] - 1s 6ms/step - loss: 0.4479 - accuracy: 0.7899\n",
            "Epoch 46/200\n",
            "177/177 [==============================] - 1s 5ms/step - loss: 0.4482 - accuracy: 0.7853\n",
            "Epoch 47/200\n",
            "177/177 [==============================] - 1s 6ms/step - loss: 0.4466 - accuracy: 0.7872\n",
            "Epoch 48/200\n",
            "177/177 [==============================] - 1s 8ms/step - loss: 0.4474 - accuracy: 0.7851\n",
            "Epoch 49/200\n",
            "177/177 [==============================] - 2s 9ms/step - loss: 0.4451 - accuracy: 0.7821\n",
            "Epoch 50/200\n",
            "177/177 [==============================] - 2s 10ms/step - loss: 0.4474 - accuracy: 0.7849\n",
            "Epoch 51/200\n",
            "177/177 [==============================] - 1s 8ms/step - loss: 0.4484 - accuracy: 0.7851\n",
            "Epoch 52/200\n",
            "177/177 [==============================] - 1s 7ms/step - loss: 0.4469 - accuracy: 0.7865\n",
            "Epoch 53/200\n",
            "177/177 [==============================] - 1s 7ms/step - loss: 0.4444 - accuracy: 0.7840\n",
            "Epoch 54/200\n",
            "177/177 [==============================] - 1s 7ms/step - loss: 0.4463 - accuracy: 0.7851\n",
            "Epoch 55/200\n",
            "177/177 [==============================] - 1s 7ms/step - loss: 0.4444 - accuracy: 0.7906\n",
            "Epoch 56/200\n",
            "177/177 [==============================] - 2s 9ms/step - loss: 0.4469 - accuracy: 0.7849\n",
            "Epoch 57/200\n",
            "177/177 [==============================] - 1s 7ms/step - loss: 0.4465 - accuracy: 0.7856\n",
            "Epoch 58/200\n",
            "177/177 [==============================] - 1s 8ms/step - loss: 0.4429 - accuracy: 0.7856\n",
            "Epoch 59/200\n",
            "177/177 [==============================] - 1s 8ms/step - loss: 0.4427 - accuracy: 0.7876\n",
            "Epoch 60/200\n",
            "177/177 [==============================] - 1s 8ms/step - loss: 0.4433 - accuracy: 0.7894\n",
            "Epoch 61/200\n",
            "177/177 [==============================] - 1s 7ms/step - loss: 0.4407 - accuracy: 0.7895\n",
            "Epoch 62/200\n",
            "177/177 [==============================] - 1s 7ms/step - loss: 0.4424 - accuracy: 0.7874\n",
            "Epoch 63/200\n",
            "177/177 [==============================] - 1s 7ms/step - loss: 0.4422 - accuracy: 0.7865\n",
            "Epoch 64/200\n",
            "177/177 [==============================] - 1s 5ms/step - loss: 0.4420 - accuracy: 0.7894\n",
            "Epoch 65/200\n",
            "177/177 [==============================] - 1s 5ms/step - loss: 0.4403 - accuracy: 0.7886\n",
            "Epoch 66/200\n",
            "177/177 [==============================] - 1s 5ms/step - loss: 0.4405 - accuracy: 0.7874\n",
            "Epoch 67/200\n",
            "177/177 [==============================] - 1s 7ms/step - loss: 0.4453 - accuracy: 0.7883\n",
            "Epoch 68/200\n",
            "177/177 [==============================] - 1s 7ms/step - loss: 0.4415 - accuracy: 0.7885\n",
            "Epoch 69/200\n",
            "177/177 [==============================] - 2s 8ms/step - loss: 0.4403 - accuracy: 0.7886\n",
            "Epoch 70/200\n",
            "177/177 [==============================] - 2s 10ms/step - loss: 0.4420 - accuracy: 0.7879\n",
            "Epoch 71/200\n",
            "177/177 [==============================] - 1s 8ms/step - loss: 0.4404 - accuracy: 0.7892\n",
            "Epoch 72/200\n",
            "177/177 [==============================] - 1s 6ms/step - loss: 0.4390 - accuracy: 0.7885\n",
            "Epoch 73/200\n",
            "177/177 [==============================] - 1s 5ms/step - loss: 0.4403 - accuracy: 0.7883\n",
            "Epoch 74/200\n",
            "177/177 [==============================] - 1s 5ms/step - loss: 0.4385 - accuracy: 0.7899\n",
            "Epoch 75/200\n",
            "177/177 [==============================] - 1s 7ms/step - loss: 0.4361 - accuracy: 0.7879\n",
            "Epoch 76/200\n",
            "177/177 [==============================] - 1s 6ms/step - loss: 0.4397 - accuracy: 0.7851\n",
            "Epoch 77/200\n",
            "177/177 [==============================] - 1s 7ms/step - loss: 0.4401 - accuracy: 0.7901\n",
            "Epoch 78/200\n",
            "177/177 [==============================] - 1s 7ms/step - loss: 0.4414 - accuracy: 0.7858\n",
            "Epoch 79/200\n",
            "177/177 [==============================] - 1s 6ms/step - loss: 0.4364 - accuracy: 0.7883\n",
            "Epoch 80/200\n",
            "177/177 [==============================] - 2s 9ms/step - loss: 0.4371 - accuracy: 0.7922\n",
            "Epoch 81/200\n",
            "177/177 [==============================] - 2s 11ms/step - loss: 0.4355 - accuracy: 0.7908\n",
            "Epoch 82/200\n",
            "177/177 [==============================] - 1s 6ms/step - loss: 0.4357 - accuracy: 0.7888\n",
            "Epoch 83/200\n",
            "177/177 [==============================] - 1s 7ms/step - loss: 0.4397 - accuracy: 0.7906\n",
            "Epoch 84/200\n",
            "177/177 [==============================] - 1s 6ms/step - loss: 0.4521 - accuracy: 0.7870\n",
            "Epoch 85/200\n",
            "177/177 [==============================] - 1s 6ms/step - loss: 0.4331 - accuracy: 0.7940\n",
            "Epoch 86/200\n",
            "177/177 [==============================] - 1s 6ms/step - loss: 0.4340 - accuracy: 0.7890\n",
            "Epoch 87/200\n",
            "177/177 [==============================] - 1s 7ms/step - loss: 0.4374 - accuracy: 0.7908\n",
            "Epoch 88/200\n",
            "177/177 [==============================] - 1s 7ms/step - loss: 0.4379 - accuracy: 0.7897\n",
            "Epoch 89/200\n",
            "177/177 [==============================] - 1s 6ms/step - loss: 0.4344 - accuracy: 0.7883\n",
            "Epoch 90/200\n",
            "177/177 [==============================] - 1s 5ms/step - loss: 0.4358 - accuracy: 0.7934\n",
            "Epoch 91/200\n",
            "177/177 [==============================] - 1s 7ms/step - loss: 0.4353 - accuracy: 0.7956\n",
            "Epoch 92/200\n",
            "177/177 [==============================] - 2s 10ms/step - loss: 0.4349 - accuracy: 0.7908\n",
            "Epoch 93/200\n",
            "177/177 [==============================] - 1s 7ms/step - loss: 0.4362 - accuracy: 0.7863\n",
            "Epoch 94/200\n",
            "177/177 [==============================] - 1s 7ms/step - loss: 0.4354 - accuracy: 0.7886\n",
            "Epoch 95/200\n",
            "177/177 [==============================] - 1s 7ms/step - loss: 0.4334 - accuracy: 0.7906\n",
            "Epoch 96/200\n",
            "177/177 [==============================] - 1s 6ms/step - loss: 0.4407 - accuracy: 0.7878\n",
            "Epoch 97/200\n",
            "177/177 [==============================] - 1s 5ms/step - loss: 0.4347 - accuracy: 0.7933\n",
            "Epoch 98/200\n",
            "177/177 [==============================] - 1s 6ms/step - loss: 0.4358 - accuracy: 0.7878\n",
            "Epoch 99/200\n",
            "177/177 [==============================] - 1s 6ms/step - loss: 0.4342 - accuracy: 0.7906\n",
            "Epoch 100/200\n",
            "177/177 [==============================] - 1s 6ms/step - loss: 0.4320 - accuracy: 0.7885\n",
            "Epoch 101/200\n",
            "177/177 [==============================] - 1s 7ms/step - loss: 0.4318 - accuracy: 0.7918\n",
            "Epoch 102/200\n",
            "177/177 [==============================] - 2s 9ms/step - loss: 0.4326 - accuracy: 0.7904\n",
            "Epoch 103/200\n",
            "177/177 [==============================] - 2s 10ms/step - loss: 0.4408 - accuracy: 0.7863\n",
            "Epoch 104/200\n",
            "177/177 [==============================] - 1s 5ms/step - loss: 0.4320 - accuracy: 0.7890\n",
            "Epoch 105/200\n",
            "177/177 [==============================] - 1s 7ms/step - loss: 0.4331 - accuracy: 0.7874\n",
            "Epoch 106/200\n",
            "177/177 [==============================] - 1s 5ms/step - loss: 0.4310 - accuracy: 0.7908\n",
            "Epoch 107/200\n",
            "177/177 [==============================] - 1s 7ms/step - loss: 0.4310 - accuracy: 0.7901\n",
            "Epoch 108/200\n",
            "177/177 [==============================] - 1s 6ms/step - loss: 0.4315 - accuracy: 0.7902\n",
            "Epoch 109/200\n",
            "177/177 [==============================] - 1s 5ms/step - loss: 0.4335 - accuracy: 0.7881\n",
            "Epoch 110/200\n",
            "177/177 [==============================] - 1s 5ms/step - loss: 0.4334 - accuracy: 0.7865\n",
            "Epoch 111/200\n",
            "177/177 [==============================] - 1s 5ms/step - loss: 0.4311 - accuracy: 0.7925\n",
            "Epoch 112/200\n",
            "177/177 [==============================] - 1s 5ms/step - loss: 0.4313 - accuracy: 0.7920\n",
            "Epoch 113/200\n",
            "177/177 [==============================] - 1s 6ms/step - loss: 0.4297 - accuracy: 0.7961\n",
            "Epoch 114/200\n",
            "177/177 [==============================] - 2s 9ms/step - loss: 0.4319 - accuracy: 0.7924\n",
            "Epoch 115/200\n",
            "177/177 [==============================] - 1s 8ms/step - loss: 0.4301 - accuracy: 0.7968\n",
            "Epoch 116/200\n",
            "177/177 [==============================] - 1s 7ms/step - loss: 0.4299 - accuracy: 0.7927\n",
            "Epoch 117/200\n",
            "177/177 [==============================] - 1s 7ms/step - loss: 0.4334 - accuracy: 0.7927\n",
            "Epoch 118/200\n",
            "177/177 [==============================] - 1s 7ms/step - loss: 0.4302 - accuracy: 0.7938\n",
            "Epoch 119/200\n",
            "177/177 [==============================] - 1s 5ms/step - loss: 0.4302 - accuracy: 0.7888\n",
            "Epoch 120/200\n",
            "177/177 [==============================] - 1s 5ms/step - loss: 0.4292 - accuracy: 0.7931\n",
            "Epoch 121/200\n",
            "177/177 [==============================] - 1s 5ms/step - loss: 0.4290 - accuracy: 0.7950\n",
            "Epoch 122/200\n",
            "177/177 [==============================] - 1s 6ms/step - loss: 0.4317 - accuracy: 0.7915\n",
            "Epoch 123/200\n",
            "177/177 [==============================] - 1s 6ms/step - loss: 0.4298 - accuracy: 0.7947\n",
            "Epoch 124/200\n",
            "177/177 [==============================] - 1s 7ms/step - loss: 0.4321 - accuracy: 0.7911\n",
            "Epoch 125/200\n",
            "177/177 [==============================] - 2s 11ms/step - loss: 0.4288 - accuracy: 0.7929\n",
            "Epoch 126/200\n",
            "177/177 [==============================] - 2s 9ms/step - loss: 0.4287 - accuracy: 0.7943\n",
            "Epoch 127/200\n",
            "177/177 [==============================] - 1s 5ms/step - loss: 0.4300 - accuracy: 0.7945\n",
            "Epoch 128/200\n",
            "177/177 [==============================] - 1s 5ms/step - loss: 0.4289 - accuracy: 0.7947\n",
            "Epoch 129/200\n",
            "177/177 [==============================] - 1s 5ms/step - loss: 0.4271 - accuracy: 0.7965\n",
            "Epoch 130/200\n",
            "177/177 [==============================] - 1s 5ms/step - loss: 0.4294 - accuracy: 0.7911\n",
            "Epoch 131/200\n",
            "177/177 [==============================] - 1s 6ms/step - loss: 0.4301 - accuracy: 0.7925\n",
            "Epoch 132/200\n",
            "177/177 [==============================] - 1s 7ms/step - loss: 0.4278 - accuracy: 0.7924\n",
            "Epoch 133/200\n",
            "177/177 [==============================] - 1s 6ms/step - loss: 0.4304 - accuracy: 0.7945\n",
            "Epoch 134/200\n",
            "177/177 [==============================] - 1s 5ms/step - loss: 0.4289 - accuracy: 0.7934\n",
            "Epoch 135/200\n",
            "177/177 [==============================] - 1s 5ms/step - loss: 0.4258 - accuracy: 0.7975\n",
            "Epoch 136/200\n",
            "177/177 [==============================] - 1s 5ms/step - loss: 0.4289 - accuracy: 0.7933\n",
            "Epoch 137/200\n",
            "177/177 [==============================] - 1s 8ms/step - loss: 0.4295 - accuracy: 0.7943\n",
            "Epoch 138/200\n",
            "177/177 [==============================] - 1s 8ms/step - loss: 0.4287 - accuracy: 0.7943\n",
            "Epoch 139/200\n",
            "177/177 [==============================] - 1s 5ms/step - loss: 0.4280 - accuracy: 0.7995\n",
            "Epoch 140/200\n",
            "177/177 [==============================] - 1s 5ms/step - loss: 0.4285 - accuracy: 0.7966\n",
            "Epoch 141/200\n",
            "177/177 [==============================] - 1s 5ms/step - loss: 0.4268 - accuracy: 0.7988\n",
            "Epoch 142/200\n",
            "177/177 [==============================] - 1s 6ms/step - loss: 0.4271 - accuracy: 0.7984\n",
            "Epoch 143/200\n",
            "177/177 [==============================] - 1s 5ms/step - loss: 0.4271 - accuracy: 0.7915\n",
            "Epoch 144/200\n",
            "177/177 [==============================] - 1s 5ms/step - loss: 0.4277 - accuracy: 0.7934\n",
            "Epoch 145/200\n",
            "177/177 [==============================] - 1s 6ms/step - loss: 0.4252 - accuracy: 0.7965\n",
            "Epoch 146/200\n",
            "177/177 [==============================] - 1s 8ms/step - loss: 0.4281 - accuracy: 0.7927\n",
            "Epoch 147/200\n",
            "177/177 [==============================] - 1s 5ms/step - loss: 0.4247 - accuracy: 0.7963\n",
            "Epoch 148/200\n",
            "177/177 [==============================] - 1s 6ms/step - loss: 0.4261 - accuracy: 0.7943\n",
            "Epoch 149/200\n",
            "177/177 [==============================] - 2s 10ms/step - loss: 0.4251 - accuracy: 0.7988\n",
            "Epoch 150/200\n",
            "177/177 [==============================] - 1s 8ms/step - loss: 0.4271 - accuracy: 0.7894\n",
            "Epoch 151/200\n",
            "177/177 [==============================] - 1s 6ms/step - loss: 0.4260 - accuracy: 0.7979\n",
            "Epoch 152/200\n",
            "177/177 [==============================] - 1s 6ms/step - loss: 0.4288 - accuracy: 0.7947\n",
            "Epoch 153/200\n",
            "177/177 [==============================] - 1s 5ms/step - loss: 0.4258 - accuracy: 0.7956\n",
            "Epoch 154/200\n",
            "177/177 [==============================] - 1s 5ms/step - loss: 0.4261 - accuracy: 0.7924\n",
            "Epoch 155/200\n",
            "177/177 [==============================] - 1s 6ms/step - loss: 0.4290 - accuracy: 0.7913\n",
            "Epoch 156/200\n",
            "177/177 [==============================] - 1s 6ms/step - loss: 0.4291 - accuracy: 0.7956\n",
            "Epoch 157/200\n",
            "177/177 [==============================] - 1s 5ms/step - loss: 0.4247 - accuracy: 0.7954\n",
            "Epoch 158/200\n",
            "177/177 [==============================] - 1s 5ms/step - loss: 0.4270 - accuracy: 0.7950\n",
            "Epoch 159/200\n",
            "177/177 [==============================] - 1s 5ms/step - loss: 0.4255 - accuracy: 0.7957\n",
            "Epoch 160/200\n",
            "177/177 [==============================] - 1s 5ms/step - loss: 0.4309 - accuracy: 0.7965\n",
            "Epoch 161/200\n",
            "177/177 [==============================] - 1s 7ms/step - loss: 0.4281 - accuracy: 0.7913\n",
            "Epoch 162/200\n",
            "177/177 [==============================] - 2s 9ms/step - loss: 0.4259 - accuracy: 0.7929\n",
            "Epoch 163/200\n",
            "177/177 [==============================] - 1s 6ms/step - loss: 0.4263 - accuracy: 0.7961\n",
            "Epoch 164/200\n",
            "177/177 [==============================] - 1s 7ms/step - loss: 0.4265 - accuracy: 0.7989\n",
            "Epoch 165/200\n",
            "177/177 [==============================] - 1s 7ms/step - loss: 0.4252 - accuracy: 0.7966\n",
            "Epoch 166/200\n",
            "177/177 [==============================] - 1s 7ms/step - loss: 0.4265 - accuracy: 0.7970\n",
            "Epoch 167/200\n",
            "177/177 [==============================] - 1s 5ms/step - loss: 0.4240 - accuracy: 0.7961\n",
            "Epoch 168/200\n",
            "177/177 [==============================] - 1s 6ms/step - loss: 0.4266 - accuracy: 0.7977\n",
            "Epoch 169/200\n",
            "177/177 [==============================] - 1s 5ms/step - loss: 0.4265 - accuracy: 0.7917\n",
            "Epoch 170/200\n",
            "177/177 [==============================] - 1s 7ms/step - loss: 0.4260 - accuracy: 0.7970\n",
            "Epoch 171/200\n",
            "177/177 [==============================] - 1s 6ms/step - loss: 0.4238 - accuracy: 0.7941\n",
            "Epoch 172/200\n",
            "177/177 [==============================] - 1s 7ms/step - loss: 0.4237 - accuracy: 0.7966\n",
            "Epoch 173/200\n",
            "177/177 [==============================] - 1s 7ms/step - loss: 0.4248 - accuracy: 0.7959\n",
            "Epoch 174/200\n",
            "177/177 [==============================] - 1s 7ms/step - loss: 0.4251 - accuracy: 0.7963\n",
            "Epoch 175/200\n",
            "177/177 [==============================] - 1s 7ms/step - loss: 0.4248 - accuracy: 0.7963\n",
            "Epoch 176/200\n",
            "177/177 [==============================] - 1s 7ms/step - loss: 0.4243 - accuracy: 0.7979\n",
            "Epoch 177/200\n",
            "177/177 [==============================] - 1s 7ms/step - loss: 0.4234 - accuracy: 0.7968\n",
            "Epoch 178/200\n",
            "177/177 [==============================] - 1s 6ms/step - loss: 0.4277 - accuracy: 0.7940\n",
            "Epoch 179/200\n",
            "177/177 [==============================] - 1s 5ms/step - loss: 0.4281 - accuracy: 0.7949\n",
            "Epoch 180/200\n",
            "177/177 [==============================] - 1s 5ms/step - loss: 0.4218 - accuracy: 0.7975\n",
            "Epoch 181/200\n",
            "177/177 [==============================] - 1s 5ms/step - loss: 0.4227 - accuracy: 0.7991\n",
            "Epoch 182/200\n",
            "177/177 [==============================] - 1s 7ms/step - loss: 0.4229 - accuracy: 0.7979\n",
            "Epoch 183/200\n",
            "177/177 [==============================] - 1s 7ms/step - loss: 0.4235 - accuracy: 0.7991\n",
            "Epoch 184/200\n",
            "177/177 [==============================] - 2s 10ms/step - loss: 0.4241 - accuracy: 0.7968\n",
            "Epoch 185/200\n",
            "177/177 [==============================] - 1s 7ms/step - loss: 0.4240 - accuracy: 0.7980\n",
            "Epoch 186/200\n",
            "177/177 [==============================] - 1s 5ms/step - loss: 0.4227 - accuracy: 0.7961\n",
            "Epoch 187/200\n",
            "177/177 [==============================] - 1s 6ms/step - loss: 0.4233 - accuracy: 0.7989\n",
            "Epoch 188/200\n",
            "177/177 [==============================] - 1s 7ms/step - loss: 0.4209 - accuracy: 0.7991\n",
            "Epoch 189/200\n",
            "177/177 [==============================] - 1s 6ms/step - loss: 0.4222 - accuracy: 0.7961\n",
            "Epoch 190/200\n",
            "177/177 [==============================] - 1s 6ms/step - loss: 0.4224 - accuracy: 0.7980\n",
            "Epoch 191/200\n",
            "177/177 [==============================] - 1s 5ms/step - loss: 0.4226 - accuracy: 0.7977\n",
            "Epoch 192/200\n",
            "177/177 [==============================] - 1s 5ms/step - loss: 0.4254 - accuracy: 0.7947\n",
            "Epoch 193/200\n",
            "177/177 [==============================] - 1s 6ms/step - loss: 0.4216 - accuracy: 0.7984\n",
            "Epoch 194/200\n",
            "177/177 [==============================] - 1s 5ms/step - loss: 0.4252 - accuracy: 0.7934\n",
            "Epoch 195/200\n",
            "177/177 [==============================] - 2s 9ms/step - loss: 0.4204 - accuracy: 0.7988\n",
            "Epoch 196/200\n",
            "177/177 [==============================] - 2s 9ms/step - loss: 0.4223 - accuracy: 0.7943\n",
            "Epoch 197/200\n",
            "177/177 [==============================] - 1s 5ms/step - loss: 0.4222 - accuracy: 0.7979\n",
            "Epoch 198/200\n",
            "177/177 [==============================] - 1s 5ms/step - loss: 0.4246 - accuracy: 0.7941\n",
            "Epoch 199/200\n",
            "177/177 [==============================] - 1s 6ms/step - loss: 0.4211 - accuracy: 0.7998\n",
            "Epoch 200/200\n",
            "177/177 [==============================] - 1s 6ms/step - loss: 0.4271 - accuracy: 0.7925\n"
          ]
        },
        {
          "output_type": "execute_result",
          "data": {
            "text/plain": [
              "<keras.src.callbacks.History at 0x7c210529c460>"
            ]
          },
          "metadata": {},
          "execution_count": 47
        }
      ],
      "source": [
        "# Train the model for 200 epochs with a batch size of 32.\n",
        "\n",
        "model.fit(X_train, y_train, epochs=200, batch_size=32)"
      ]
    },
    {
      "cell_type": "code",
      "execution_count": 48,
      "metadata": {
        "colab": {
          "base_uri": "https://localhost:8080/"
        },
        "id": "RfNe0CPC2XXb",
        "outputId": "a97ae4eb-ac30-4a21-f698-871f7c52361e"
      },
      "outputs": [
        {
          "output_type": "stream",
          "name": "stdout",
          "text": [
            "45/45 [==============================] - 0s 3ms/step\n"
          ]
        }
      ],
      "source": [
        "# Predict the class labels for the test data.\n",
        "\n",
        "y_hat = model.predict(X_test)\n",
        "\n",
        "# Convert the predicted probabilities to binary class labels.\n",
        "\n",
        "y_hat = [0 if val < 0.5 else 1 for val in y_hat]"
      ]
    },
    {
      "cell_type": "code",
      "execution_count": 49,
      "metadata": {
        "colab": {
          "base_uri": "https://localhost:8080/"
        },
        "id": "rrgybSqt2XXb",
        "outputId": "b782ce14-2cd6-44c4-8b84-22a948b67c6c"
      },
      "outputs": [
        {
          "output_type": "execute_result",
          "data": {
            "text/plain": [
              "0.8055358410220014"
            ]
          },
          "metadata": {},
          "execution_count": 49
        }
      ],
      "source": [
        "# Calculate the accuracy of the model on the test data.\n",
        "\n",
        "accuracy_score(y_test, y_hat)"
      ]
    },
    {
      "cell_type": "markdown",
      "metadata": {
        "id": "mPFWjkFW2XXb"
      },
      "source": [
        "# 4. Saving and Reloading"
      ]
    },
    {
      "cell_type": "code",
      "execution_count": 50,
      "metadata": {
        "collapsed": true,
        "id": "O76u9A_a2XXb"
      },
      "outputs": [],
      "source": [
        "# Save the trained model to a file called 'tfmodel'.\n",
        "\n",
        "model.save('tfmodel')"
      ]
    },
    {
      "cell_type": "code",
      "execution_count": 51,
      "metadata": {
        "id": "DyRfNStO2XXb"
      },
      "outputs": [],
      "source": [
        "# Delete the model object from memory.\n",
        "\n",
        "del model"
      ]
    },
    {
      "cell_type": "code",
      "execution_count": 52,
      "metadata": {
        "id": "J2RThuBH2XXc"
      },
      "outputs": [],
      "source": [
        "# Load the saved model from the file 'tfmodel'.\n",
        "\n",
        "model = load_model('tfmodel')"
      ]
    }
  ],
  "metadata": {
    "kernelspec": {
      "display_name": "Python 3",
      "language": "python",
      "name": "python3"
    },
    "language_info": {
      "codemirror_mode": {
        "name": "ipython",
        "version": 3
      },
      "file_extension": ".py",
      "mimetype": "text/x-python",
      "name": "python",
      "nbconvert_exporter": "python",
      "pygments_lexer": "ipython3",
      "version": "3.7.4"
    },
    "colab": {
      "provenance": []
    }
  },
  "nbformat": 4,
  "nbformat_minor": 0
}